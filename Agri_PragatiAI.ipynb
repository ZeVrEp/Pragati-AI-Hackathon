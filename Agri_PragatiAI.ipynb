{
  "nbformat": 4,
  "nbformat_minor": 0,
  "metadata": {
    "colab": {
      "provenance": []
    },
    "kernelspec": {
      "name": "python3",
      "display_name": "Python 3"
    },
    "language_info": {
      "name": "python"
    }
  },
  "cells": [
    {
      "cell_type": "code",
      "execution_count": null,
      "metadata": {
        "id": "LwqMSpUxlN3Z"
      },
      "outputs": [],
      "source": [
        "!pip install -U google-generativeai"
      ]
    },
    {
      "cell_type": "code",
      "source": [
        "import google.generativeai as genai\n",
        "\n",
        "# Set your API key here\n",
        "genai.configure(api_key=\"API KEY\")\n",
        "model = genai.GenerativeModel(model_name=\"models/gemini-2.0-pro-exp\")"
      ],
      "metadata": {
        "id": "uBuD2X92lc_C"
      },
      "execution_count": null,
      "outputs": []
    },
    {
      "cell_type": "code",
      "source": [
        "def get_fibil_input(age, experience, loan_history, land_size, soil_quality, climate, crop_type, yield_history, irrigation, profit, govt_support):\n",
        "    # Construct a detailed prompt for Gemini\n",
        "    prompt = f\"\"\"\n",
        "    You are an AI model that helps assess creditworthiness of farmers by generating a FIBIL score (similar to CIBIL).\n",
        "    Based on the following:\n",
        "    - Age: {age} years\n",
        "    - Experience: {experience} years\n",
        "    - Previous Loan History: {loan_history}\n",
        "    - Land Size: {land_size} acres\n",
        "    - Soil Quality: {soil_quality}\n",
        "    - Weather & Climate Data: {climate}\n",
        "    - Crop Type: {crop_type}\n",
        "    - Yield History: {yield_history}\n",
        "    - Irrigation Facilities: {irrigation}\n",
        "    - Profit per Season: ₹{profit}\n",
        "    - Government Support: {govt_support}\n",
        "\n",
        "    Generate a FIBIL Score between 300 and 900 and justify in 2-3 lines.\n",
        "    \"\"\"\n",
        "\n",
        "    response = model.generate_content(prompt)\n",
        "    return response.text"
      ],
      "metadata": {
        "id": "78MyNmWslpgj"
      },
      "execution_count": null,
      "outputs": []
    },
    {
      "cell_type": "code",
      "source": [
        "def get_crop_insurance_advice(crop, land_size, region, soil_type, weather, irrigation, yield_history, govt_support):\n",
        "    prompt = f\"\"\"\n",
        "     You are an agricultural risk assessment assistant. Based on the following input:\n",
        "     - Crop: {crop}\n",
        "     - Land Size: {land_size} acres\n",
        "     - Region: {region}\n",
        "     - Soil: {soil_type}\n",
        "     - Forecast: {weather}\n",
        "     - Irrigation: {irrigation}\n",
        "     - Historical Yield: {yield_history}\n",
        "     - Government Support: {govt_support}\n",
        "\n",
        "     Assess the crop risk (Low, Moderate, High) and recommend whether crop insurance is needed.\n",
        "     Suggest the best-suited type of insurance and justify the risk level in simple farmer-friendly language.\n",
        "     \"\"\"\n",
        "    response = model.generate_content([prompt])\n",
        "    return response.text"
      ],
      "metadata": {
        "id": "42nLZto1lt8T"
      },
      "execution_count": null,
      "outputs": []
    },
    {
      "cell_type": "code",
      "source": [
        "def get_financial_advice(income_farming, other_income, expenses, savings, land_size, age_group, goal):\n",
        "    prompt = f\"\"\"\n",
        "You are a rural financial advisor helping farmers in India.\n",
        "\n",
        "Based on the following:\n",
        "- Income from farming: ₹{income_farming}/month\n",
        "- Other income: ₹{other_income}/month\n",
        "- Monthly expenses: ₹{expenses}\n",
        "- Current savings: ₹{savings}\n",
        "- Land size: {land_size} acres\n",
        "- Farmer's age group: {age_group}\n",
        "- Financial goal: {goal}\n",
        "\n",
        "Give a simple, 3-point financial advice plan tailored to the farmer's situation. Use easy language. Keep it short and clear.\n",
        "\"\"\"\n",
        "    response = model.generate_content([prompt])\n",
        "    return response.text\n"
      ],
      "metadata": {
        "id": "-_tfsV0olzqa"
      },
      "execution_count": null,
      "outputs": []
    }
  ]
}